{
  "nbformat": 4,
  "nbformat_minor": 0,
  "metadata": {
    "colab": {
      "provenance": [],
      "authorship_tag": "ABX9TyO8RnJhKsESZU07QWMHBjDX",
      "include_colab_link": true
    },
    "kernelspec": {
      "name": "python3",
      "display_name": "Python 3"
    },
    "language_info": {
      "name": "python"
    }
  },
  "cells": [
    {
      "cell_type": "markdown",
      "metadata": {
        "id": "view-in-github",
        "colab_type": "text"
      },
      "source": [
        "<a href=\"https://colab.research.google.com/github/jrbarreiros/chatbraille/blob/main/chatbraille.ipynb\" target=\"_parent\"><img src=\"https://colab.research.google.com/assets/colab-badge.svg\" alt=\"Open In Colab\"/></a>"
      ]
    },
    {
      "cell_type": "code",
      "execution_count": null,
      "metadata": {
        "id": "57ufum9UfA7t"
      },
      "outputs": [],
      "source": [
        "!pip install -q google-generativeai"
      ]
    },
    {
      "cell_type": "code",
      "source": [
        "import google.generativeai as genai\n",
        "import numpy as np\n",
        "import pandas as pd\n",
        "from google.colab import userdata\n",
        "API_KEY = userdata.get('secretName')\n",
        "genai.configure(api_key=API_KEY)\n",
        "\n",
        "for m in genai.list_models():\n",
        "  if 'embedContent' in m.supported_generation_methods:\n",
        "    print(m.name)\n"
      ],
      "metadata": {
        "colab": {
          "base_uri": "https://localhost:8080/",
          "height": 52
        },
        "id": "48HPY-518069",
        "outputId": "ee9ac3d6-dd8c-45be-c146-c3e6ca19a5a7"
      },
      "execution_count": 127,
      "outputs": [
        {
          "output_type": "stream",
          "name": "stdout",
          "text": [
            "models/embedding-001\n",
            "models/text-embedding-004\n"
          ]
        }
      ]
    },
    {
      "cell_type": "code",
      "source": [],
      "metadata": {
        "id": "zj8XECtz_P7l"
      },
      "execution_count": null,
      "outputs": []
    },
    {
      "cell_type": "code",
      "source": [
        "BRAILLE_DOCUMENTO1 = {\n",
        "    \"dados\": {\n",
        "        'a': 'Estrutura para a letra \"a\" - Ponto 1 em relevo, demais pontos não são marcados.',\n",
        "        'b': 'Estrutura para a letra \"b\" - Pontos 1 e 2 em relevo, demais pontos não são marcados.',\n",
        "        'c': 'Estrutura para a letra \"c\" - Pontos 1 e 4 em relevo, demais pontos não são marcados.',\n",
        "        'd': 'Estrutura para a letra \"d\" - Pontos 1, 4 e 5 em relevo, demais pontos não são marcados.',\n",
        "        'e': 'Estrutura para a letra \"e\" - Pontos 1 e 5 em relevo, demais pontos não são marcados.',\n",
        "        'f': 'Estrutura para a letra \"f\" - Pontos 1, 2 e 4 em relevo, demais pontos não são marcados.',\n",
        "        'g': 'Estrutura para a letra \"g\" - Pontos 1, 2, 4 e 5 em relevo, demais pontos não são marcados.',\n",
        "        'h': 'Estrutura para a letra \"h\" - Pontos 1, 2 e 5 em relevo, demais pontos não são marcados.',\n",
        "        'i': 'Estrutura para a letra \"i\" - Pontos 2 e 4 em relevo, demais pontos não são marcados.',\n",
        "        'j': 'Estrutura para a letra \"j\" - Pontos 2, 4 e 5 em relevo, demais pontos não são marcados.',\n",
        "        'k': 'Estrutura para a letra \"k\" - Pontos 1 e 3 em relevo, demais pontos não são marcados.',\n",
        "        'l': 'Estrutura para a letra \"l\" - Pontos 1, 2 e 3 em relevo, demais pontos não são marcados.',\n",
        "        'm': 'Estrutura para a letra \"m\" - Pontos 1, 3 e 4 em relevo, demais pontos não são marcados.',\n",
        "        'n': 'Estrutura para a letra \"n\" - Pontos 1, 3, 4 e 5 em relevo, demais pontos não são marcados.',\n",
        "        'o': 'Estrutura para a letra \"o\" - Pontos 1, 3 e 5 em relevo, demais pontos não são marcados.',\n",
        "        'p': 'Estrutura para a letra \"p\" - Pontos 1, 2, 3 e 4 em relevo, demais pontos não são marcados.',\n",
        "        'q': 'Estrutura para a letra \"q\" - Pontos 1, 2, 3, 4 e 5 em relevo, demais pontos não são marcados.',\n",
        "        'r': 'Estrutura para a letra \"r\" - Pontos 1, 2, 3 e 5 em relevo, demais pontos não são marcados.',\n",
        "        's': 'Estrutura para a letra \"s\" - Pontos 2, 3 e 4 em relevo, demais pontos não são marcados.',\n",
        "        't': 'Estrutura para a letra \"t\" - Pontos 2, 3, 4 e 5 em relevo, demais pontos não são marcados.',\n",
        "        'u': 'Estrutura para a letra \"u\" - Pontos 1, 3 e 6 em relevo, demais pontos não são marcados.',\n",
        "        'v': 'Estrutura para a letra \"v\" - Pontos 1, 2, 3 e 6 em relevo, demais pontos não são marcados.',\n",
        "        'w': 'Estrutura para a letra \"w\" - Pontos 2, 4, 5 e 6 em relevo, demais pontos não são marcados.',\n",
        "        'x': 'Estrutura para a letra \"x\" - Pontos 1, 3, 4 e 6 em relevo, demais pontos não são marcados.',\n",
        "        'y': 'Estrutura para a letra \"y\" - Pontos 1, 3, 4, 5 e 6 em relevo, demais pontos não são marcados.',\n",
        "        'z': 'Estrutura para a letra \"z\" - Pontos 1, 3, 5 e 6 em relevo, demais pontos não são marcados.',\n",
        "        'à': 'Estrutura para a letra \"à\" - Pontos 1, 2, 5 e 6 em relevo, demais pontos não são marcados.',\n",
        "        'â': 'Estrutura para a letra \"â\" - Pontos 2, 4 e 6 em relevo, demais pontos não são marcados.',\n",
        "        'ã': 'Estrutura para a letra \"ã\" - Pontos 3, 4 e 5 em relevo, demais pontos não são marcados.',\n",
        "        'é': 'Estrutura para a letra \"é\" - Pontos 2, 3 e 5 em relevo, demais pontos não são marcados.',\n",
        "        'ê': 'Estrutura para a letra \"ê\" - Pontos 1, 3, 4, 5 e 6 em relevo, demais pontos não são marcados.',\n",
        "        'í': 'Estrutura para a letra \"í\" - Pontos 1, 4 e 6 em relevo, demais pontos não são marcados.',\n",
        "        'ó': 'Estrutura para a letra \"ó\" - Pontos 1, 3, 5 e 6 em relevo, demais pontos não são marcados.',\n",
        "        'ô': 'Estrutura para a letra \"ô\" - Pontos 1, 4, 5 e 6 em relevo, demais pontos não são marcados.',\n",
        "        'õ': 'Estrutura para a letra \"õ\" - Pontos 1, 2, 3, 4, 5 e 6 em relevo.',\n",
        "        'ú': 'Estrutura para a letra \"ú\" - Pontos 1, 5 e 6 em relevo, demais pontos não são marcados.',\n",
        "        'ç': 'Estrutura para a letra \"ç\" - Pontos 1, 2, 3, 4, 6 em relevo, demais pontos não são marcados.',\n",
        "        '.': 'Estrutura para o caracter \".\" - Pontos 2, 5 e 6 em relevo, demais pontos não são marcados.',\n",
        "        ',': 'Estrutura para o caracter \",\" - Ponto 2 em relevo, demais pontos não são marcados.',\n",
        "        '?': 'Estrutura para o caracter \"?\" - Pontos 2, 3 e 6 em relevo, demais pontos não são marcados.',\n",
        "        '!': 'Estrutura para o caracter \"!\" - Pontos 2, 3, 5 e 6 em relevo, demais pontos não são marcados.',\n",
        "        ';': 'Estrutura para o caracter \";\" - Pontos 2 e 3 em relevo, demais pontos não são marcados.',\n",
        "        ':': 'Estrutura para o caracter \":\" - Pontos 2 e 5 em relevo, demais pontos não são marcados.',\n",
        "        '-': 'Estrutura para o caracter \"-\" - Pontos 3 e 6 em relevo, demais pontos não são marcados.',\n",
        "        '“': 'Estrutura para o caracter \"“\" - Ponto 6 em relevo, demais pontos não são marcados.',\n",
        "        '”': 'Estrutura para o caracter \"”\" - Pontos 3, 5 e 6 em relevo, demais pontos não são marcados.',\n",
        "        '(': 'Estrutura para o caracter \"(\" - Pontos 2, 3, 4 e 6 em relevo, demais pontos não são marcados.',\n",
        "        ')': 'Estrutura para o caracter \")\" - Pontos 3, 4, 5 e 6 em relevo, demais pontos não são marcados.',\n",
        "        '*': 'Estrutura para o caracter \" \" - Pontos 3 e 4 em relevo, demais pontos não são marcados.',\n",
        "        '/': 'Estrutura para o caracter \"/\" - Pontos 3, 4 e 5 em relevo, demais pontos não são marcados.',\n",
        "        '#': 'Estrutura para o caracter \"#\" - Pontos 3, 4 e 6 em relevo, demais pontos não são marcados.',\n",
        "        '§': 'Estrutura para o caracter \"§\" - Pontos 2, 3, 4, 5 e 6 em relevo, demais pontos não são marcados.',\n",
        "        '%': 'Estrutura para o caracter \"%\" - Pontos 2, 3, 5 e 6 em relevo, demais pontos não são marcados.',\n",
        "        '&': 'Estrutura para o caracter \"&\" - Todos os pontos (1, 2, 3, 4, 5 e 6) em relevo.',\n",
        "        '@': 'Estrutura para o caracter \"@\" - Pontos 2, 4, 5 e 6 em relevo, demais pontos não são marcados.',\n",
        "        '©': 'Estrutura para o caracter \"©\" - Pontos 1, 3, 5 e 6 em relevo, demais pontos não são marcados.',\n",
        "        '®': 'Estrutura para o caracter \"®\" - Pontos 1, 2, 3 e 5 em relevo, demais pontos não são marcados.',\n",
        "        '1': 'Estrutura para o número \"1\" - Para números temos 2 celas, a primeira indica que é número e a segunda indica o número. Pontos 3, 4, 5 e 6 em relevo, demais pontos não são marcados + Ponto 1 em relevo, demais pontos não são marcados.',\n",
        "        '2': 'Estrutura para o número \"2\" - Para números temos 2 celas, a primeira indica que é número e a segunda indica o número. Pontos 3, 4, 5 e 6 em relevo, demais pontos não são marcados + Pontos 1 e 2 em relevo, demais pontos não são marcados.',\n",
        "        '3': 'Estrutura para o número \"3\" - Para números temos 2 celas, a primeira indica que é número e a segunda indica o número. Pontos 3, 4, 5 e 6 em relevo, demais pontos não são marcados + Pontos 1 e 4 em relevo, demais pontos não são marcados.',\n",
        "        '4': 'Estrutura para o número \"4\" - Para números temos 2 celas, a primeira indica que é número e a segunda indica o número. Pontos 3, 4, 5 e 6 em relevo, demais pontos não são marcados + Pontos 1, 4 e 5 em relevo, demais pontos não são marcados.',\n",
        "        '5': 'Estrutura para o número \"5\" - Para números temos 2 celas, a primeira indica que é número e a segunda indica o número. Pontos 3, 4, 5 e 6 em relevo, demais pontos não são marcados + Pontos 1 e 5 em relevo, demais pontos não são marcados.',\n",
        "        '6': 'Estrutura para o número \"6\" - Para números temos 2 celas, a primeira indica que é número e a segunda indica o número. Pontos 3, 4, 5 e 6 em relevo, demais pontos não são marcados + Pontos 1, 2 e 4 em relevo, demais pontos não são marcados.',\n",
        "        '7': 'Estrutura para o número \"7\" - Para números temos 2 celas, a primeira indica que é número e a segunda indica o número. Pontos 3, 4, 5 e 6 em relevo, demais pontos não são marcados + Pontos 1, 2, 4 e 5 em relevo, demais pontos não são marcados.',\n",
        "        '8': 'Estrutura para o número \"8\" - Para números temos 2 celas, a primeira indica que é número e a segunda indica o número. Pontos 3, 4, 5 e 6 em relevo, demais pontos não são marcados + Pontos 1, 2 e 5 em relevo, demais pontos não são marcados.',\n",
        "        '9': 'Estrutura para o número \"9\" - Para números temos 2 celas, a primeira indica que é número e a segunda indica o número. Pontos 3, 4, 5 e 6 em relevo, demais pontos não são marcados + Pontos 2 e 4 em relevo, demais pontos não são marcados.',\n",
        "        '0': 'Estrutura para o número \"0\" - Para números temos 2 celas, a primeira indica que é número e a segunda indica o número. Pontos 3, 4, 5 e 6 em relevo, demais pontos não são marcados + Pontos 2, 4 e 5 em relevo, demais pontos não são marcados.',\n",
        "    }\n",
        "}\n",
        "#documents = [BRAILLE_DOCUMENTO1, BRAILLE_DOCUMENTO2, BRAILLE_DOCUMENTO3]\n",
        "\n",
        "# Cria as listas para os caracteres e descrições\n",
        "caracteres = []\n",
        "descricoes = []\n",
        "\n",
        "# Itera sobre os dicionários de Escrita_Reglete e Leitura_Papel\n",
        "for tipo_leitura in BRAILLE_DOCUMENTO1:\n",
        "    for caracter, descricao in BRAILLE_DOCUMENTO1[tipo_leitura].items():\n",
        "        caracteres.append(caracter)\n",
        "        descricoes.append(descricao)\n",
        "\n",
        "# Cria o dataframe\n",
        "df = pd.DataFrame({\"caracteres\": caracteres, \"descrição\": descricoes})\n",
        "\n",
        "# Imprime o dataframe\n",
        "print(df)\n",
        "\n",
        "df.columns = [\"Caracteres\",\"Descricao\"]\n"
      ],
      "metadata": {
        "colab": {
          "base_uri": "https://localhost:8080/"
        },
        "id": "9Zk69Cqw9cXJ",
        "outputId": "62e478c1-d49d-4635-da06-06633fd25ad8"
      },
      "execution_count": 128,
      "outputs": [
        {
          "output_type": "stream",
          "name": "stdout",
          "text": [
            "   caracteres                                          descrição\n",
            "0           a  Estrutura para a letra \"a\" - Ponto 1 em relevo...\n",
            "1           b  Estrutura para a letra \"b\" - Pontos 1 e 2 em r...\n",
            "2           c  Estrutura para a letra \"c\" - Pontos 1 e 4 em r...\n",
            "3           d  Estrutura para a letra \"d\" - Pontos 1, 4 e 5 e...\n",
            "4           e  Estrutura para a letra \"e\" - Pontos 1 e 5 em r...\n",
            "..        ...                                                ...\n",
            "62          6  Estrutura para o número \"6\" - Para números tem...\n",
            "63          7  Estrutura para o número \"7\" - Para números tem...\n",
            "64          8  Estrutura para o número \"8\" - Para números tem...\n",
            "65          9  Estrutura para o número \"9\" - Para números tem...\n",
            "66          0  Estrutura para o número \"0\" - Para números tem...\n",
            "\n",
            "[67 rows x 2 columns]\n"
          ]
        }
      ]
    },
    {
      "cell_type": "code",
      "source": [
        "model = \"models/embedding-001\"\n",
        "\n",
        "def embed_fn(title,text):\n",
        "  return genai.embed_content(model=model,\n",
        "                                 content=text,\n",
        "                                 title=title,\n",
        "                                 task_type=\"RETRIEVAL_DOCUMENT\")[\"embedding\"]\n",
        "\n",
        "df[\"Embeddings\"] = df.apply(lambda row: embed_fn(row[\"Caracteres\"],row[\"Descricao\"]), axis=1)\n",
        "#df\n"
      ],
      "metadata": {
        "id": "r7eDpTPJC9qH"
      },
      "execution_count": 129,
      "outputs": []
    },
    {
      "cell_type": "code",
      "source": [
        "def gerar_buscar_consulta(consulta, base, model):\n",
        "  embed_cons = genai.embed_content(model=model,\n",
        "                                 content=consulta,\n",
        "                                 task_type=\"RETRIEVAL_QUERY\")[\"embedding\"]\n",
        "  produtos_escalares = np.dot(np.stack(df[\"Embeddings\"]), embed_cons)\n",
        "  indice = np.argmax(produtos_escalares)\n",
        "  return df.iloc[indice][\"Descricao\"]\n",
        "\n",
        "\n",
        "def chat_reglete():\n",
        "    \"\"\"Função para interagir com o usuário e gerar buscas palavras em Braille.\"\"\"\n",
        "\n",
        "    print(\"\\nBem-vindo ao chat conversão de palavras para o método Braille!\")\n",
        "\n",
        "\n",
        "    while True:\n",
        "        print(\"\\nDigite 'Encerrar chat' para encerrar.\\n\")\n",
        "        consulta = input(\"Digite sua consulta: \")\n",
        "        if consulta.lower() == \"encerrar chat\":\n",
        "            print(\"Saindo do chat...\")\n",
        "            break\n",
        "\n",
        "        print(\"Na escrita em reglete sempre escrevemos da direita para a esquerda!\")\n",
        "        print(\"Na leitura em papel ou outra superfície, a leitura é sempre da esquerda para a direita\")\n",
        "        print(\"Sua consulta:\", consulta, \" Você deve seguir os pontos:\")\n",
        "\n",
        "        for letra in consulta:\n",
        "            if letra.isupper():\n",
        "                letraEspecial = \"Antes de uma letra maiúscula devemos colocar um cela com apenas o ponto 6 em relevo\"\n",
        "            elif letra == \" \":\n",
        "                print(\"*** Entre as palavras, no espaço em branco, pule um espaço ***\")\n",
        "            else:\n",
        "                letraEspecial = \"\"\n",
        "\n",
        "            if letraEspecial != \"\":\n",
        "                print(letraEspecial)\n",
        "\n",
        "            if letra is None or letra.strip() == \"\":\n",
        "                continue\n",
        "\n",
        "            letraPesquisa = letra\n",
        "            trecho = gerar_buscar_consulta(letraPesquisa, df, model)\n",
        "            print(trecho)\n",
        "\n",
        "# Inicie o chat\n",
        "chat_reglete()\n",
        "\n"
      ],
      "metadata": {
        "colab": {
          "base_uri": "https://localhost:8080/",
          "height": 920
        },
        "id": "Zz5PE85CfNhV",
        "outputId": "95ad8ea5-d843-4a26-8ce5-6d89a52ef5b7"
      },
      "execution_count": 130,
      "outputs": [
        {
          "output_type": "stream",
          "name": "stdout",
          "text": [
            "\n",
            "Bem-vindo ao chat conversão de palavras para o método Braille!\n",
            "\n",
            "Digite 'Encerrar chat' para encerrar.\n",
            "\n",
            "Digite sua consulta: Alura\n",
            "Na escrita em reglete sempre escrevemos da direita para a esquerda!\n",
            "Na leitura em papel ou outra superfície, a leitura é sempre da esquerda para a direita\n",
            "Sua consulta: Alura  Você deve seguir os pontos:\n",
            "Antes de uma letra maiúscula devemos colocar um cela com apenas o ponto 6 em relevo\n",
            "Estrutura para a letra \"a\" - Ponto 1 em relevo, demais pontos não são marcados.\n",
            "Estrutura para a letra \"l\" - Pontos 1, 2 e 3 em relevo, demais pontos não são marcados.\n",
            "Estrutura para a letra \"u\" - Pontos 1, 3 e 6 em relevo, demais pontos não são marcados.\n",
            "Estrutura para a letra \"r\" - Pontos 1, 2, 3 e 5 em relevo, demais pontos não são marcados.\n",
            "Estrutura para a letra \"a\" - Ponto 1 em relevo, demais pontos não são marcados.\n",
            "\n",
            "Digite 'Encerrar chat' para encerrar.\n",
            "\n",
            "Digite sua consulta: desafio da imersão quatro\n",
            "Na escrita em reglete sempre escrevemos da direita para a esquerda!\n",
            "Na leitura em papel ou outra superfície, a leitura é sempre da esquerda para a direita\n",
            "Sua consulta: desafio da imersão quatro  Você deve seguir os pontos:\n",
            "Estrutura para a letra \"d\" - Pontos 1, 4 e 5 em relevo, demais pontos não são marcados.\n",
            "Estrutura para a letra \"e\" - Pontos 1 e 5 em relevo, demais pontos não são marcados.\n",
            "Estrutura para a letra \"s\" - Pontos 2, 3 e 4 em relevo, demais pontos não são marcados.\n",
            "Estrutura para a letra \"a\" - Ponto 1 em relevo, demais pontos não são marcados.\n",
            "Estrutura para a letra \"f\" - Pontos 1, 2 e 4 em relevo, demais pontos não são marcados.\n",
            "Estrutura para a letra \"i\" - Pontos 2 e 4 em relevo, demais pontos não são marcados.\n",
            "Estrutura para a letra \"o\" - Pontos 1, 3 e 5 em relevo, demais pontos não são marcados.\n",
            "*** Entre as palavras, no espaço em branco, pule um espaço ***\n",
            "Estrutura para a letra \"d\" - Pontos 1, 4 e 5 em relevo, demais pontos não são marcados.\n",
            "Estrutura para a letra \"a\" - Ponto 1 em relevo, demais pontos não são marcados.\n",
            "*** Entre as palavras, no espaço em branco, pule um espaço ***\n",
            "Estrutura para a letra \"i\" - Pontos 2 e 4 em relevo, demais pontos não são marcados.\n",
            "Estrutura para a letra \"m\" - Pontos 1, 3 e 4 em relevo, demais pontos não são marcados.\n",
            "Estrutura para a letra \"e\" - Pontos 1 e 5 em relevo, demais pontos não são marcados.\n",
            "Estrutura para a letra \"r\" - Pontos 1, 2, 3 e 5 em relevo, demais pontos não são marcados.\n",
            "Estrutura para a letra \"s\" - Pontos 2, 3 e 4 em relevo, demais pontos não são marcados.\n",
            "Estrutura para a letra \"õ\" - Pontos 1, 2, 3, 4, 5 e 6 em relevo.\n",
            "Estrutura para a letra \"o\" - Pontos 1, 3 e 5 em relevo, demais pontos não são marcados.\n",
            "*** Entre as palavras, no espaço em branco, pule um espaço ***\n",
            "Estrutura para a letra \"q\" - Pontos 1, 2, 3, 4 e 5 em relevo, demais pontos não são marcados.\n",
            "Estrutura para a letra \"u\" - Pontos 1, 3 e 6 em relevo, demais pontos não são marcados.\n",
            "Estrutura para a letra \"a\" - Ponto 1 em relevo, demais pontos não são marcados.\n",
            "Estrutura para a letra \"t\" - Pontos 2, 3, 4 e 5 em relevo, demais pontos não são marcados.\n",
            "Estrutura para a letra \"r\" - Pontos 1, 2, 3 e 5 em relevo, demais pontos não são marcados.\n",
            "Estrutura para a letra \"o\" - Pontos 1, 3 e 5 em relevo, demais pontos não são marcados.\n",
            "\n",
            "Digite 'Encerrar chat' para encerrar.\n",
            "\n",
            "Digite sua consulta: encerrar chat\n",
            "Saindo do chat...\n"
          ]
        }
      ]
    }
  ]
}